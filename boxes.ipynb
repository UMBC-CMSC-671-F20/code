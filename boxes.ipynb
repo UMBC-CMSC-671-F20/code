{
 "cells": [
  {
   "cell_type": "markdown",
   "metadata": {},
   "source": [
    "![Imgur](https://i.imgur.com/GBme6hT.png)\n",
    "\n",
    "You are shown three boxes, only one of which contains a car. Each box has a statement with it.\n",
    "\n",
    "* Box One: \"The car is in this box\"\n",
    "* Box Two: \"The car is NOT in this box\"\n",
    "* Box Three: \"The car is NOT in box 1\"\n",
    "\n",
    "Only one of the statements is correct.\n",
    "\n",
    "Which box has the car?"
   ]
  },
  {
   "cell_type": "code",
   "execution_count": 2,
   "metadata": {},
   "outputs": [
    {
     "ename": "SyntaxError",
     "evalue": "invalid syntax (<ipython-input-2-bb49f80093a8>, line 1)",
     "output_type": "error",
     "traceback": [
      "\u001b[0;36m  File \u001b[0;32m\"<ipython-input-2-bb49f80093a8>\"\u001b[0;36m, line \u001b[0;32m1\u001b[0m\n\u001b[0;31m    from aima/logic import dpll_satisfiable, WalkSAT, expr\u001b[0m\n\u001b[0m             ^\u001b[0m\n\u001b[0;31mSyntaxError\u001b[0m\u001b[0;31m:\u001b[0m invalid syntax\n"
     ]
    }
   ],
   "source": [
    "from logic import dpll_satisfiable, WalkSAT, expr"
   ]
  },
  {
   "cell_type": "markdown",
   "metadata": {},
   "source": [
    "We model the problem with six variables\n",
    "* S1 is the statement on box 1, i.e., \"The car is in box 1\"\n",
    "* S2 is the statement on box 2, i.e., \"The car is in box 2\"\n",
    "* S3 is the statement on box 3, i.e., \"The car is not in box 1\"\n",
    "* B1 means the car is in box 1\n",
    "* B2 means the car is in box 2\n",
    "* B3 means the car is in box 3\n",
    "\n",
    "We will construct *proposition* as a propositional sentence that is a conjunction of eleven conditions.\n",
    "\n",
    "The first four say that the car's in one and only one of the boxes:\n",
    " 1. (B1 | B2 | B3)     # the car's either in 1 2 or 3\n",
    " 2. (B1 ==> ~B2 & ~B3) # if the car's in 1, it's not in 2 or 3\n",
    " 3. (B2 ==> ~B1 & ~B3) # if the car's in 2, it's not in 1 or 3\n",
    " 4. (B3 ==> ~B1 & ~B2) # if the car's in 3 it's not in 1 or 2\n",
    " \n",
    "The next three are the statements on each of the boxes:\n",
    " 5. (S1 <=> B1)   # S1 is true iff the car is in box 1\n",
    " 6. (S2 <=> ~B2)  # S2 is true iff the car is not in box 2\n",
    " 7. (S3 <=> ~B1)  # S3 is true iff the car is not in box 1\n",
    " \n",
    "The final four say that only one of the statements is true:\n",
    " 8.  (S1 | S2 | S3)      # at leat one of the statements is true\n",
    " 9.  (S1 ==> ~S2 & ~S3)  # if S1 is true, the others are false\n",
    " 10. (S2 ==> ~S1 & ~S3)  # if S2 is true, the others are false\n",
    " 11. (S3 ==> ~S1 & ~S2)  # if S3 is true, the others are false"
   ]
  },
  {
   "cell_type": "code",
   "execution_count": 2,
   "metadata": {},
   "outputs": [],
   "source": [
    "conditions = [\n",
    " '(B1 | B2 | B3)',\n",
    " '(B1 ==> ~B2 & ~B3)',\n",
    " '(B2 ==> ~B1 & ~B3)',\n",
    " '(B3 ==> ~B1 & ~B2)',\n",
    " '(S1 <=> B1)',\n",
    " '(S2 <=> ~B2)',\n",
    " '(S3 <=> ~B1)',\n",
    " '(S1 | S2 | S3)',\n",
    " '(S1 ==> ~S2 & ~S3)',\n",
    " '(S2 ==> ~S1 & ~S3)',\n",
    " '(S3 ==> ~S1 & ~S2)'\n",
    "]"
   ]
  },
  {
   "cell_type": "markdown",
   "metadata": {},
   "source": [
    "we can make a single propositional sentence out of these by *joining* them together with conjunctions (i.e., &) to make a single string, and then using the aima **expr** function to produce the internal form needed by the aima code."
   ]
  },
  {
   "cell_type": "code",
   "execution_count": 3,
   "metadata": {},
   "outputs": [
    {
     "ename": "NameError",
     "evalue": "name 'expr' is not defined",
     "output_type": "error",
     "traceback": [
      "\u001b[0;31m------------------------------------------------------------------\u001b[0m",
      "\u001b[0;31mNameError\u001b[0m                        Traceback (most recent call last)",
      "\u001b[0;32m<ipython-input-3-e1167e2be6fa>\u001b[0m in \u001b[0;36m<module>\u001b[0;34m\u001b[0m\n\u001b[0;32m----> 1\u001b[0;31m \u001b[0mproposition\u001b[0m \u001b[0;34m=\u001b[0m \u001b[0mexpr\u001b[0m\u001b[0;34m(\u001b[0m\u001b[0;34m' & '\u001b[0m\u001b[0;34m.\u001b[0m\u001b[0mjoin\u001b[0m\u001b[0;34m(\u001b[0m\u001b[0mconditions\u001b[0m\u001b[0;34m)\u001b[0m\u001b[0;34m)\u001b[0m\u001b[0;34m\u001b[0m\u001b[0m\n\u001b[0m\u001b[1;32m      2\u001b[0m \u001b[0mprint\u001b[0m\u001b[0;34m(\u001b[0m\u001b[0mproposition\u001b[0m\u001b[0;34m)\u001b[0m\u001b[0;34m\u001b[0m\u001b[0m\n",
      "\u001b[0;31mNameError\u001b[0m: name 'expr' is not defined"
     ]
    }
   ],
   "source": [
    "proposition = expr(' & '.join(conditions))\n",
    "print(proposition)\n"
   ]
  },
  {
   "cell_type": "markdown",
   "metadata": {},
   "source": [
    "dpll_satisfiable() takes a propositional sentence and searches for a way to bind its variables to True or False that make the overall sentence True.  It returns False if no model can be found or a python dictionary that represents the bindings if one can be found."
   ]
  },
  {
   "cell_type": "code",
   "execution_count": 27,
   "metadata": {},
   "outputs": [],
   "source": [
    "model = dpll_satisfiable(proposition)"
   ]
  },
  {
   "cell_type": "markdown",
   "metadata": {},
   "source": [
    "The model is represented as a Python dict where the kyes are the vatiables and their values are a Boolean (i.e., True or False)"
   ]
  },
  {
   "cell_type": "code",
   "execution_count": 25,
   "metadata": {},
   "outputs": [
    {
     "name": "stdout",
     "output_type": "stream",
     "text": [
      "{S2: False, B2: True, B3: False, B1: False, S1: False, S3: True}\n"
     ]
    }
   ],
   "source": [
    "print(model)"
   ]
  },
  {
   "cell_type": "code",
   "execution_count": 5,
   "metadata": {},
   "outputs": [
    {
     "name": "stdout",
     "output_type": "stream",
     "text": [
      "The car is in box 2\n"
     ]
    }
   ],
   "source": [
    "if model[expr('B1')]:\n",
    "    print(\"The car is in box 1\")\n",
    "if model[expr('B2')]:\n",
    "    print(\"The car is in box 2\")\n",
    "if model[expr('B3')]:\n",
    "    print(\"The car is in box 3\")"
   ]
  },
  {
   "cell_type": "markdown",
   "metadata": {},
   "source": [
    "We can also use [WalkSAT](https://en.wikipedia.org/wiki/WalkSAT) to search for a model that makes the proposition True.  WalkSAT takes a list of propositions and uses [local search](https://en.wikipedia.org/wiki/Local_search_(optimization)) to try to find a model for them."
   ]
  },
  {
   "cell_type": "code",
   "execution_count": 28,
   "metadata": {},
   "outputs": [
    {
     "data": {
      "text/plain": [
       "{S2: False, S3: True, B1: False, S1: False, B2: True, B3: False}"
      ]
     },
     "execution_count": 28,
     "metadata": {},
     "output_type": "execute_result"
    }
   ],
   "source": [
    "WalkSAT([proposition])"
   ]
  }
 ],
 "metadata": {
  "kernelspec": {
   "display_name": "Python 3",
   "language": "python",
   "name": "python3"
  },
  "language_info": {
   "codemirror_mode": {
    "name": "ipython",
    "version": 3
   },
   "file_extension": ".py",
   "mimetype": "text/x-python",
   "name": "python",
   "nbconvert_exporter": "python",
   "pygments_lexer": "ipython3",
   "version": "3.7.0"
  }
 },
 "nbformat": 4,
 "nbformat_minor": 2
}
