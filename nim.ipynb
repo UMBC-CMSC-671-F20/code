{
 "cells": [
  {
   "cell_type": "code",
   "execution_count": 1,
   "metadata": {},
   "outputs": [],
   "source": [
    "import games\n",
    "from games import GameState\n",
    "infinity = float('inf')\n",
    "\n",
    "import nim"
   ]
  },
  {
   "cell_type": "code",
   "execution_count": 15,
   "metadata": {},
   "outputs": [],
   "source": [
    "board = [1,1,1]"
   ]
  },
  {
   "cell_type": "code",
   "execution_count": 16,
   "metadata": {},
   "outputs": [],
   "source": [
    "a_game = nim.Nim(board)"
   ]
  },
  {
   "cell_type": "code",
   "execution_count": 17,
   "metadata": {},
   "outputs": [
    {
     "name": "stdout",
     "output_type": "stream",
     "text": [
      "Nim([1, 1, 1])\n"
     ]
    }
   ],
   "source": [
    "print(a_game)"
   ]
  },
  {
   "cell_type": "code",
   "execution_count": 18,
   "metadata": {},
   "outputs": [],
   "source": [
    "# minimax returns a move by using the minimax algorithm\n",
    "# to search all the way down to leaves to choose best move \n",
    "minimax = lambda g, s: games.minimax_decision(s, g)\n",
    "\n",
    "# these return a move by using the alphabeta algorithm\n",
    "# to search to a given depth to choose best move\n",
    "dumb = lambda g, s: games.alphabeta_cutoff_search(s, g, d=1)\n",
    "smart = lambda g, s: games.alphabeta_cutoff_search(s, g, d=3)\n",
    "smarter = lambda g, s: games.alphabeta_cutoff_search(s, g, d=20)\n",
    "\n",
    "# Smartest return a move by using the alphabeta algorithm\n",
    "# to search down to leaves to choose best move\n",
    "smartest = games.alphabeta_player\n",
    "\n",
    "# random just returns a random move\n",
    "random = games.random_player"
   ]
  },
  {
   "cell_type": "code",
   "execution_count": 19,
   "metadata": {},
   "outputs": [
    {
     "name": "stdout",
     "output_type": "stream",
     "text": [
      "  Player1 moves (0, 1) => [0, 1, 1]\n",
      "  Player2 moves (1, 1) => [0, 0, 1]\n",
      "  Player1 moves (2, 1) => [0, 0, 0]\n",
      "GameState(to_move=2, utility=0, board=[0, 0, 0], moves=[])\n"
     ]
    },
    {
     "data": {
      "text/plain": [
       "-inf"
      ]
     },
     "execution_count": 19,
     "metadata": {},
     "output_type": "execute_result"
    }
   ],
   "source": [
    "a_game = nim.Nim(board)\n",
    "a_game.play_game(minimax, minimax)"
   ]
  },
  {
   "cell_type": "code",
   "execution_count": 14,
   "metadata": {},
   "outputs": [
    {
     "name": "stdout",
     "output_type": "stream",
     "text": [
      "  Player1 moves (1, 1) => [1, 0]\n",
      "  Player2 moves (0, 1) => [0, 0]\n",
      "GameState(to_move=1, utility=0, board=[0, 0], moves=[])\n"
     ]
    },
    {
     "data": {
      "text/plain": [
       "inf"
      ]
     },
     "execution_count": 14,
     "metadata": {},
     "output_type": "execute_result"
    }
   ],
   "source": [
    "a_game = nim.Nim(board)\n",
    "a_game.play_game(smart, smarter)"
   ]
  },
  {
   "cell_type": "code",
   "execution_count": 8,
   "metadata": {},
   "outputs": [
    {
     "name": "stdout",
     "output_type": "stream",
     "text": [
      "  Player1 moves (3, 1) => [3, 2, 1, 0]\n",
      "  Player2 moves (2, 1) => [3, 2, 0, 0]\n",
      "  Player1 moves (1, 2) => [3, 0, 0, 0]\n",
      "  Player2 moves (0, 2) => [1, 0, 0, 0]\n",
      "  Player1 moves (0, 1) => [0, 0, 0, 0]\n",
      "GameState(to_move=2, utility=0, board=[0, 0, 0, 0], moves=[])\n"
     ]
    },
    {
     "data": {
      "text/plain": [
       "-inf"
      ]
     },
     "execution_count": 8,
     "metadata": {},
     "output_type": "execute_result"
    }
   ],
   "source": [
    "a_game = nim.Nim(board)\n",
    "a_game.play_game(smartest, smartest)"
   ]
  },
  {
   "cell_type": "code",
   "execution_count": null,
   "metadata": {},
   "outputs": [],
   "source": []
  },
  {
   "cell_type": "code",
   "execution_count": null,
   "metadata": {},
   "outputs": [],
   "source": []
  }
 ],
 "metadata": {
  "kernelspec": {
   "display_name": "Python 3",
   "language": "python",
   "name": "python3"
  },
  "language_info": {
   "codemirror_mode": {
    "name": "ipython",
    "version": 3
   },
   "file_extension": ".py",
   "mimetype": "text/x-python",
   "name": "python",
   "nbconvert_exporter": "python",
   "pygments_lexer": "ipython3",
   "version": "3.6.0"
  }
 },
 "nbformat": 4,
 "nbformat_minor": 2
}
