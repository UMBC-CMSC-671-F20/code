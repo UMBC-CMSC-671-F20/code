{
 "cells": [
  {
   "cell_type": "code",
   "execution_count": 1,
   "metadata": {},
   "outputs": [],
   "source": [
    "# import the AIMA search code\n",
    "import aima3.search as s"
   ]
  },
  {
   "cell_type": "markdown",
   "metadata": {},
   "source": [
    "Classic two water jugs problem: given two jugs J1 and J2 with capacities C1 and C2, initially filled with W1 and W2.  Can you end up with exactly G1 liters in J1 and G2 liters in J2?  You're allowed the following actions: dump the contents of either jug onto the floor, or pour the contents of one jug into the other untill either the jug from which you are pouring is empty or the one you are filling is full."
   ]
  },
  {
   "cell_type": "code",
   "execution_count": 2,
   "metadata": {},
   "outputs": [],
   "source": [
    "class WJ(s.Problem):\n",
    "    \"\"\"\n",
    "    STATE: tuple like (3,2) if jug J1 has 3 liters and J2 2 liters\n",
    "    GOAL: a state except with -1 representing a 'don't care', so\n",
    "      valid goals include (1,1) and (-1,2).\n",
    "    PROBLEM: Specify capacities of each jug, initial state and goal \"\"\"\n",
    "\n",
    "    def __init__(self, capacities=(5,2), initial=(5,0), goal=(0,1)):\n",
    "        self.capacities = capacities\n",
    "        self.initial = initial\n",
    "        self.goal = goal\n",
    "\n",
    "    def __repr__(self):\n",
    "        \"\"\" Returns a string representing the object \"\"\"\n",
    "        return \"WJ({},{},{})\".format(self.capacities, self.initial, self.goal)\n",
    "\n",
    "    def goal_test(self, state):\n",
    "        \"\"\" Returns True iff state is a goal state \"\"\"\n",
    "        G1, G2 = self.goal\n",
    "        return (state[0] == G1 or G1 < 0) and \\\n",
    "               (state[1] == G2 or G2 < 0)\n",
    "\n",
    "    def h(self, node):\n",
    "        \"\"\" Estimate of cost of shortest path from node to a goal \"\"\"\n",
    "        return 0 if self.goal_test(node.state) else 1\n",
    "    \n",
    "    def actions(self, state):\n",
    "        \"\"\" generates legal actions for state \"\"\"\n",
    "        (J1, J2) = state\n",
    "        (C1, C2) = self.capacities\n",
    "        if J1 > 0: yield 'dump1'\n",
    "        if J2>0: yield 'dump2'\n",
    "        if J2<C2 and J1>0: yield 'pour1=>2'\n",
    "        if J1<C1 and J2>0: yield 'pour2=>1'\n",
    "\n",
    "    def result(self, state, action):\n",
    "        \"\"\" Returns the successor of state after doing action \"\"\"\n",
    "        (J1, J2) = state\n",
    "        (C1, C2) = self.capacities\n",
    "        if action == 'dump1':\n",
    "            return (0, J2)\n",
    "        elif action == 'dump2':\n",
    "            return (J1, 0)\n",
    "        elif action == 'pour1=>2':\n",
    "            delta = min(J1, C2-J2)\n",
    "            return (J1-delta, J2+delta)\n",
    "        elif action == 'pour2=>1':\n",
    "            delta = min(J2, C1-J1)\n",
    "            return (J1+delta, J2-delta)\n",
    "        else:\n",
    "            raise ValueError('Unrecognized action: ' + action)\n",
    "\n",
    "    def path_cost(self, c, state1, action, state2):\n",
    "        \"\"\" Cost of path from start node to state1 assuming cost c to\n",
    "        get to state1 and doing action to get to state2 \"\"\"\n",
    "        return c + 1"
   ]
  },
  {
   "cell_type": "code",
   "execution_count": 3,
   "metadata": {},
   "outputs": [
    {
     "name": "stdout",
     "output_type": "stream",
     "text": [
      "Problem: WJ((9, 4),(9, 4),(1, 0))\n"
     ]
    }
   ],
   "source": [
    "# Create a problem instance\n",
    "p = WJ((9,4), (9,4), (1,0)) \n",
    "print(\"Problem:\", p)                                                              "
   ]
  },
  {
   "cell_type": "code",
   "execution_count": 5,
   "metadata": {},
   "outputs": [
    {
     "name": "stdout",
     "output_type": "stream",
     "text": [
      "Soution with cost 5 is [(None, <Node (9, 4)>), ('dump2', <Node (9, 0)>), ('pour1=>2', <Node (5, 4)>), ('dump2', <Node (5, 0)>), ('pour1=>2', <Node (1, 4)>), ('dump2', <Node (1, 0)>)]\n"
     ]
    }
   ],
   "source": [
    "# Use breadth first graph search function. Result will be None\n",
    "# if the search failed or a goal node in the search graph if successful.\n",
    "answer = s.breadth_first_search(p)\n",
    "if answer:\n",
    "    # A node’s path is the best way to get to it from the start node, i.e., a solution\n",
    "    print(\"Solution with cost\", answer.path_cost, \"is\", [(node.action, node) for node in answer.path()])\n",
    "else:\n",
    "    print(\"No solution found 🙁\")"
   ]
  },
  {
   "cell_type": "code",
   "execution_count": null,
   "metadata": {},
   "outputs": [],
   "source": []
  }
 ],
 "metadata": {
  "anaconda-cloud": {},
  "kernelspec": {
   "display_name": "Python [Root]",
   "language": "python",
   "name": "Python [Root]"
  },
  "language_info": {
   "codemirror_mode": {
    "name": "ipython",
    "version": 3
   },
   "file_extension": ".py",
   "mimetype": "text/x-python",
   "name": "python",
   "nbconvert_exporter": "python",
   "pygments_lexer": "ipython3",
   "version": "3.5.4"
  }
 },
 "nbformat": 4,
 "nbformat_minor": 2
}
