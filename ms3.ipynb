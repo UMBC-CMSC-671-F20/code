{
 "cells": [
  {
   "cell_type": "markdown",
   "metadata": {},
   "source": [
    "Magic Squares are square grids with a special arrangement of numbers in them. These numbers are special because every row, column and diagonal adds up to the same number.  3x3 magic square's number is 15."
   ]
  },
  {
   "cell_type": "code",
   "execution_count": 40,
   "metadata": {},
   "outputs": [
    {
     "name": "stdout",
     "output_type": "stream",
     "text": [
      "Requirement already satisfied: python-constraint in ./.local/lib/python3.5/site-packages\n",
      "\u001b[33mYou are using pip version 9.0.1, however version 19.0.3 is available.\n",
      "You should consider upgrading via the 'pip install --upgrade pip' command.\u001b[0m\n"
     ]
    }
   ],
   "source": [
    "# Start by installing the python-constraint package if needed.\n",
    "# This only needs to be done once; you can comment it out after that if you like.\n",
    "\n",
    "!pip install python-constraint --user"
   ]
  },
  {
   "cell_type": "code",
   "execution_count": 32,
   "metadata": {},
   "outputs": [],
   "source": [
    "from constraint import Problem, AllDifferentConstraint, ExactSumConstraint"
   ]
  },
  {
   "cell_type": "code",
   "execution_count": 33,
   "metadata": {},
   "outputs": [],
   "source": [
    "p = Problem()"
   ]
  },
  {
   "cell_type": "markdown",
   "metadata": {},
   "source": [
    "Use integers 0..8 to denote the nine variables each with a domain {1,2..9}"
   ]
  },
  {
   "cell_type": "code",
   "execution_count": 34,
   "metadata": {},
   "outputs": [],
   "source": [
    "p.addVariables(range(0, 9), range(1, 9 + 1))"
   ]
  },
  {
   "cell_type": "markdown",
   "metadata": {},
   "source": [
    "values in each cell must be different"
   ]
  },
  {
   "cell_type": "code",
   "execution_count": 35,
   "metadata": {},
   "outputs": [],
   "source": [
    "p.addConstraint(AllDifferentConstraint(), range(0, 9))"
   ]
  },
  {
   "cell_type": "markdown",
   "metadata": {},
   "source": [
    "values in each row must sum to 15"
   ]
  },
  {
   "cell_type": "code",
   "execution_count": 36,
   "metadata": {},
   "outputs": [],
   "source": [
    "for row in range(3):\n",
    "    p.addConstraint(ExactSumConstraint(15),\n",
    "                          [row*3+i for i in range(3)])\n"
   ]
  },
  {
   "cell_type": "markdown",
   "metadata": {},
   "source": [
    "values in each column must sum to 15"
   ]
  },
  {
   "cell_type": "code",
   "execution_count": 37,
   "metadata": {},
   "outputs": [],
   "source": [
    "for col in range(3):\n",
    "    p.addConstraint(ExactSumConstraint(15),\n",
    "                          [col+3*i for i in range(3)])"
   ]
  },
  {
   "cell_type": "markdown",
   "metadata": {},
   "source": [
    "values in each diagonal must sum to 15"
   ]
  },
  {
   "cell_type": "code",
   "execution_count": 38,
   "metadata": {},
   "outputs": [],
   "source": [
    "p.addConstraint(ExactSumConstraint(15), [0,4,8])\n",
    "p.addConstraint(ExactSumConstraint(15), [2,4,6])"
   ]
  },
  {
   "cell_type": "markdown",
   "metadata": {},
   "source": [
    "find one solution and print it"
   ]
  },
  {
   "cell_type": "code",
   "execution_count": 39,
   "metadata": {},
   "outputs": [
    {
     "data": {
      "text/plain": [
       "{0: 6, 1: 7, 2: 2, 3: 1, 4: 5, 5: 9, 6: 8, 7: 3, 8: 4}"
      ]
     },
     "execution_count": 39,
     "metadata": {},
     "output_type": "execute_result"
    }
   ],
   "source": [
    "p.getSolution()"
   ]
  },
  {
   "cell_type": "code",
   "execution_count": 31,
   "metadata": {},
   "outputs": [
    {
     "name": "stdout",
     "output_type": "stream",
     "text": [
      "672\n",
      "159\n",
      "834\n",
      "\n",
      "618\n",
      "753\n",
      "294\n",
      "\n",
      "816\n",
      "357\n",
      "492\n",
      "\n",
      "834\n",
      "159\n",
      "672\n",
      "\n",
      "276\n",
      "951\n",
      "438\n",
      "\n",
      "294\n",
      "753\n",
      "618\n",
      "\n",
      "492\n",
      "357\n",
      "816\n",
      "\n",
      "438\n",
      "951\n",
      "276\n",
      "\n"
     ]
    }
   ],
   "source": [
    "for s in p.getSolutions():\n",
    "    for row in range(3):\n",
    "        for col in range(3):\n",
    "            #print(row*3+col)\n",
    "            print(s[row*3+col], end='')\n",
    "        print()\n",
    "    print()\n",
    "        "
   ]
  }
 ],
 "metadata": {
  "anaconda-cloud": {},
  "kernelspec": {
   "display_name": "Python [Root]",
   "language": "python",
   "name": "Python [Root]"
  },
  "language_info": {
   "codemirror_mode": {
    "name": "ipython",
    "version": 3
   },
   "file_extension": ".py",
   "mimetype": "text/x-python",
   "name": "python",
   "nbconvert_exporter": "python",
   "pygments_lexer": "ipython3",
   "version": "3.5.4"
  }
 },
 "nbformat": 4,
 "nbformat_minor": 2
}
