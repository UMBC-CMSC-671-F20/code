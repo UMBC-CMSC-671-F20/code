{
 "cells": [
  {
   "cell_type": "code",
   "execution_count": 1,
   "metadata": {},
   "outputs": [],
   "source": [
    "from collections import namedtuple"
   ]
  },
  {
   "cell_type": "markdown",
   "metadata": {},
   "source": [
    "A namedtuple is a light-weight class that acts like a tuple with a fixed number of elements.  We can access its elements by names as well as by position."
   ]
  },
  {
   "cell_type": "code",
   "execution_count": 2,
   "metadata": {},
   "outputs": [
    {
     "name": "stdout",
     "output_type": "stream",
     "text": [
      "<class '__main__.GameState'>\n"
     ]
    }
   ],
   "source": [
    "GameState = namedtuple('GameState', 'to_move, utility, board, moves')\n",
    "print(GameState)"
   ]
  },
  {
   "cell_type": "code",
   "execution_count": 3,
   "metadata": {},
   "outputs": [
    {
     "name": "stdout",
     "output_type": "stream",
     "text": [
      "GameState(to_move=1, utility=7, board=[1, 2, 3], moves=[])\n"
     ]
    }
   ],
   "source": [
    "s1 = GameState(board=[1,2,3], to_move=1, utility=7, moves=[])\n",
    "print(s1)"
   ]
  },
  {
   "cell_type": "code",
   "execution_count": 4,
   "metadata": {},
   "outputs": [
    {
     "name": "stdout",
     "output_type": "stream",
     "text": [
      "item 0 is 1\n",
      "item 1 is 7\n",
      "item 2 is [1, 2, 3]\n",
      "item 3 is []\n"
     ]
    }
   ],
   "source": [
    "for i in range(4): print(\"item\", i, \"is\", s1[i])"
   ]
  },
  {
   "cell_type": "code",
   "execution_count": 5,
   "metadata": {},
   "outputs": [
    {
     "name": "stdout",
     "output_type": "stream",
     "text": [
      "[1, 2, 3]\n"
     ]
    }
   ],
   "source": [
    "print(s1.board)"
   ]
  },
  {
   "cell_type": "code",
   "execution_count": 6,
   "metadata": {},
   "outputs": [],
   "source": [
    "# create a new state\n",
    "new_board = s1.board\n",
    "new_board[2] = 1\n",
    "s2 = GameState(board=new_board, to_move=0, utility=3, moves=[])"
   ]
  },
  {
   "cell_type": "markdown",
   "metadata": {},
   "source": [
    "Since lists are mutable objects, chaning new_board's value changes the list in s1'"
   ]
  },
  {
   "cell_type": "code",
   "execution_count": 7,
   "metadata": {},
   "outputs": [
    {
     "name": "stdout",
     "output_type": "stream",
     "text": [
      "s1: GameState(to_move=1, utility=7, board=[1, 2, 1], moves=[])\n",
      "s2: GameState(to_move=0, utility=3, board=[1, 2, 1], moves=[])\n"
     ]
    }
   ],
   "source": [
    "print(\"s1:\", s1)\n",
    "print(\"s2:\", s2)"
   ]
  },
  {
   "cell_type": "markdown",
   "metadata": {},
   "source": [
    "This is probably undesirable, so we should make a copy of the list to use as new_s1 = GameState(board=[1,2,3], to_move=1, utility=7, moves=[])\n",
    "print(s1)board.  A siple way to make a top-level copy is as a plython list slice with all of the elements."
   ]
  },
  {
   "cell_type": "code",
   "execution_count": 8,
   "metadata": {},
   "outputs": [
    {
     "name": "stdout",
     "output_type": "stream",
     "text": [
      "[1, 2, 3]\n"
     ]
    }
   ],
   "source": [
    "s1 = GameState(board=[1,2,3], to_move=1, utility=7, moves=[])\n",
    "print(s1.board)"
   ]
  },
  {
   "cell_type": "code",
   "execution_count": 9,
   "metadata": {},
   "outputs": [],
   "source": [
    "# new_board is a COPY of s1.board\n",
    "new_board = s1.board[:]\n",
    "new_board[2] = 1\n",
    "s2 = GameState(board=new_board, to_move=0, utility=3, moves=[])"
   ]
  },
  {
   "cell_type": "code",
   "execution_count": 10,
   "metadata": {},
   "outputs": [
    {
     "name": "stdout",
     "output_type": "stream",
     "text": [
      "s1: GameState(to_move=1, utility=7, board=[1, 2, 3], moves=[])\n",
      "s2: GameState(to_move=0, utility=3, board=[1, 2, 1], moves=[])\n"
     ]
    }
   ],
   "source": [
    "print(\"s1:\", s1)\n",
    "print(\"s2:\", s2)"
   ]
  },
  {
   "cell_type": "code",
   "execution_count": null,
   "metadata": {},
   "outputs": [],
   "source": []
  }
 ],
 "metadata": {
  "kernelspec": {
   "display_name": "Python 3",
   "language": "python",
   "name": "python3"
  },
  "language_info": {
   "codemirror_mode": {
    "name": "ipython",
    "version": 3
   },
   "file_extension": ".py",
   "mimetype": "text/x-python",
   "name": "python",
   "nbconvert_exporter": "python",
   "pygments_lexer": "ipython3",
   "version": "3.6.0"
  }
 },
 "nbformat": 4,
 "nbformat_minor": 2
}
