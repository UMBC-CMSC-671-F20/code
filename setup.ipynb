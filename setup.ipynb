{
 "cells": [
  {
   "cell_type": "code",
   "execution_count": 1,
   "metadata": {},
   "outputs": [
    {
     "name": "stdout",
     "output_type": "stream",
     "text": [
      "Requirement already satisfied: python-constraint in ./.local/lib/python3.5/site-packages\n",
      "\u001b[33mYou are using pip version 9.0.1, however version 19.0.3 is available.\n",
      "You should consider upgrading via the 'pip install --upgrade pip' command.\u001b[0m\n"
     ]
    }
   ],
   "source": [
    "!pip install python-constraint --user"
   ]
  },
  {
   "cell_type": "code",
   "execution_count": 2,
   "metadata": {},
   "outputs": [
    {
     "name": "stdout",
     "output_type": "stream",
     "text": [
      "total 12\r\n",
      "drwxr-xr-x.  4 finin faculty 4096 Feb  2 11:15 aima\r\n",
      "drwxr-xr-x.  2 finin faculty  131 Feb  2 11:15 aima-2015.4.5.dist-info\r\n",
      "drwxr-xr-x.  4 finin faculty 4096 Feb  3 11:18 aima3\r\n",
      "drwxr-xr-x.  2 finin faculty   87 Feb  3 11:18 aima3-1.0.11.dist-info\r\n",
      "drwxr-xr-x.  3 finin faculty   79 Feb 26 19:55 constraint\r\n",
      "drwxr-xr-x. 13 finin faculty  191 Feb 24 22:58 examples\r\n",
      "drwxr-xr-x. 13 finin faculty 4096 Feb  3 11:18 networkx\r\n",
      "drwxr-xr-x.  2 finin faculty  131 Feb  3 11:18 networkx-1.11.dist-info\r\n",
      "drwxr-xr-x.  2 finin faculty  131 Feb 26 19:55 python_constraint-1.4.0.dist-info\r\n",
      "drwxr-xr-x.  5 finin faculty  264 Feb  3 11:18 tqdm\r\n",
      "drwxr-xr-x.  2 finin faculty  126 Feb  3 11:18 tqdm-4.30.0.dist-info\r\n"
     ]
    }
   ],
   "source": [
    "!ls -l ./.local/lib/python3.5/site-packages"
   ]
  },
  {
   "cell_type": "code",
   "execution_count": 3,
   "metadata": {},
   "outputs": [
    {
     "name": "stdout",
     "output_type": "stream",
     "text": [
      "total 0\r\n",
      "drwxr-xr-x. 3 finin faculty  58 Feb 24 22:58 abc\r\n",
      "drwxr-xr-x. 3 finin faculty  60 Feb 24 22:58 coins\r\n",
      "drwxr-xr-x. 3 finin faculty  65 Feb 24 22:58 crosswords\r\n",
      "drwxr-xr-x. 3 finin faculty  63 Feb 24 22:58 einstein\r\n",
      "-rw-r--r--. 1 finin faculty   0 Feb 26 19:55 __init__.py\r\n",
      "drwxr-xr-x. 2 finin faculty  37 Feb 24 22:58 __pycache__\r\n",
      "drwxr-xr-x. 3 finin faculty  61 Feb 24 22:58 queens\r\n",
      "drwxr-xr-x. 3 finin faculty  60 Feb 24 22:58 rooks\r\n",
      "drwxr-xr-x. 3 finin faculty  67 Feb 24 22:58 studentdesks\r\n",
      "drwxr-xr-x. 3 finin faculty  61 Feb 24 22:58 sudoku\r\n",
      "drwxr-xr-x. 3 finin faculty 112 Feb 24 22:58 wordmath\r\n",
      "drwxr-xr-x. 3 finin faculty  59 Feb 24 22:58 xsum\r\n"
     ]
    }
   ],
   "source": [
    "!ls -l ./.local/lib/python3.5/site-packages/examples"
   ]
  },
  {
   "cell_type": "code",
   "execution_count": null,
   "metadata": {},
   "outputs": [],
   "source": []
  }
 ],
 "metadata": {
  "anaconda-cloud": {},
  "kernelspec": {
   "display_name": "Python [Root]",
   "language": "python",
   "name": "Python [Root]"
  },
  "language_info": {
   "codemirror_mode": {
    "name": "ipython",
    "version": 3
   },
   "file_extension": ".py",
   "mimetype": "text/x-python",
   "name": "python",
   "nbconvert_exporter": "python",
   "pygments_lexer": "ipython3",
   "version": "3.5.4"
  }
 },
 "nbformat": 4,
 "nbformat_minor": 2
}
