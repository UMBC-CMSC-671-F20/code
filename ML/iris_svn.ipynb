{
  "nbformat": 4,
  "nbformat_minor": 0,
  "metadata": {
    "colab": {
      "name": "iris_svn.ipynb",
      "version": "0.3.2",
      "provenance": [],
      "collapsed_sections": []
    },
    "kernelspec": {
      "name": "python3",
      "display_name": "Python 3"
    }
  },
  "cells": [
    {
      "metadata": {
        "id": "GjLA8pmuyDGC",
        "colab_type": "text"
      },
      "cell_type": "markdown",
      "source": [
        "Support Vector Machone example using the classic IRIS [data set](https://en.wikipedia.org/wiki/Iris_flower_data_set), which has 50 samples from each of three species of Iris (setosa, virginica, versicolor). Four features were measured from each sample: the length and width of the sepals and petals in centimeters.\n",
        "\n",
        "![Imgur](https://i.imgur.com/aJqnqC6.png)"
      ]
    },
    {
      "metadata": {
        "id": "1MGEChBEELgX",
        "colab_type": "text"
      },
      "cell_type": "markdown",
      "source": [
        "From scikit-learn we import **svm**, the support vector machine learning package ,and **datasets**, which provides functrions to load some sample datasets."
      ]
    },
    {
      "metadata": {
        "id": "f9xXjLPSyAkG",
        "colab_type": "code",
        "colab": {}
      },
      "cell_type": "code",
      "source": [
        "from sklearn import svm, datasets\n"
      ],
      "execution_count": 0,
      "outputs": []
    },
    {
      "metadata": {
        "id": "p5C-KKHG08k6",
        "colab_type": "text"
      },
      "cell_type": "markdown",
      "source": [
        "The dataset [load_iris()](https://scikit-learn.org/stable/modules/generated/sklearn.datasets.load_iris.html) function returns a scikit bunch object, which has a **data** and **target** for our iris dataset.  The **data** is an 150x4 array of the four measurements for each of the 150 samples and the  **target** is a vector of 150 category values (i.e., iris species)"
      ]
    },
    {
      "metadata": {
        "id": "cSOecJkky4P6",
        "colab_type": "code",
        "colab": {}
      },
      "cell_type": "code",
      "source": [
        "iris = datasets.load_iris()\n",
        "X = iris.data\n",
        "y = iris.target"
      ],
      "execution_count": 0,
      "outputs": []
    },
    {
      "metadata": {
        "id": "E3ONka7b5NFg",
        "colab_type": "text"
      },
      "cell_type": "markdown",
      "source": [
        "Use scikit's [svc](https://scikit-learn.org/stable/modules/generated/sklearn.svm.SVC.html) classifier and fit a model to the data.  Note: \n",
        "* **clf** is a common variable to use for a **cl**assi**f**ier.\n",
        "* A comon convention is to name the data **X** and the answers **y**"
      ]
    },
    {
      "metadata": {
        "id": "e2zy1g2E2GjO",
        "colab_type": "code",
        "colab": {}
      },
      "cell_type": "code",
      "source": [
        "clf = svm.SVC(gamma=0.001, C=100.)\n",
        "clf = clf.fit(X, y)"
      ],
      "execution_count": 0,
      "outputs": []
    },
    {
      "metadata": {
        "id": "SFRoYutYd2na",
        "colab_type": "text"
      },
      "cell_type": "markdown",
      "source": [
        "The tree model's predict() method returns a predicted class for one new data item as a one-dimentioanal array of length 1."
      ]
    },
    {
      "metadata": {
        "id": "LtLp4wUoeFvA",
        "colab_type": "code",
        "outputId": "fb76fcdd-0719-4e06-e188-1d83917e32ac",
        "colab": {
          "base_uri": "https://localhost:8080/",
          "height": 35
        }
      },
      "cell_type": "code",
      "source": [
        "answer = clf.predict([[5.5, 3.4, 4.5, 1.0]])\n",
        "print(iris.target_names[answer[0]])"
      ],
      "execution_count": 9,
      "outputs": [
        {
          "output_type": "stream",
          "text": [
            "versicolor\n"
          ],
          "name": "stdout"
        }
      ]
    },
    {
      "metadata": {
        "id": "BMwhG9ZziKyO",
        "colab_type": "text"
      },
      "cell_type": "markdown",
      "source": [
        "10-fold cross validation"
      ]
    },
    {
      "metadata": {
        "id": "JUPiw6LYiQ0v",
        "colab_type": "code",
        "colab": {
          "base_uri": "https://localhost:8080/",
          "height": 52
        },
        "outputId": "ce1a3433-3456-4b94-bc34-8addf236c2c4"
      },
      "cell_type": "code",
      "source": [
        "from sklearn.model_selection import cross_val_score\n",
        "clf = svm.SVC(kernel='linear', C=1)\n",
        "scores = cross_val_score(clf, iris.data, iris.target, cv=10)\n",
        "scores    "
      ],
      "execution_count": 12,
      "outputs": [
        {
          "output_type": "execute_result",
          "data": {
            "text/plain": [
              "array([1.        , 0.93333333, 1.        , 1.        , 0.86666667,\n",
              "       1.        , 0.93333333, 1.        , 1.        , 1.        ])"
            ]
          },
          "metadata": {
            "tags": []
          },
          "execution_count": 12
        }
      ]
    }
  ]
}