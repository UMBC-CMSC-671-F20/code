{
 "cells": [
  {
   "cell_type": "markdown",
   "metadata": {},
   "source": [
    "Map coloring prolems"
   ]
  },
  {
   "cell_type": "code",
   "execution_count": 1,
   "metadata": {},
   "outputs": [],
   "source": [
    "import constraint"
   ]
  },
  {
   "cell_type": "markdown",
   "metadata": {},
   "source": [
    "We'll use a compact way to represent the regions and the neighbors"
   ]
  },
  {
   "cell_type": "code",
   "execution_count": 2,
   "metadata": {},
   "outputs": [],
   "source": [
    "# two example maps from russell and norvig\n",
    "australia = \"SA: WA NT Q NSW V; NT: WA Q; NSW: Q V; T: \"\n",
    "    \n",
    "usa = \"\"\"WA: OR ID; OR: ID NV CA; CA: NV AZ; NV: ID UT AZ; ID: MT WY UT;\n",
    "         UT: WY CO AZ; MT: ND SD WY; WY: SD NE CO; CO: NE KA OK NM; NM: OK TX;\n",
    "         ND: MN SD; SD: MN IA NE; NE: IA MO KA; KA: MO OK; OK: MO AR TX;\n",
    "         TX: AR LA; MN: WI IA; IA: WI IL MO; MO: IL KY TN AR; AR: MS TN LA;\n",
    "         LA: MS; WI: MI IL; IL: IN; IN: KY; MS: TN AL; AL: TN GA FL; MI: OH;\n",
    "         OH: PA WV KY; KY: WV VA TN; TN: VA NC GA; GA: NC SC FL;\n",
    "         PA: NY NJ DE MD WV; WV: MD VA; VA: MD DC NC; NC: SC; NY: VT MA CA NJ;\n",
    "         NJ: DE; DE: MD; MD: DC; VT: NH MA; MA: NH RI CT; CT: RI; ME: NH;\n",
    "         HI: ; AK: \"\"\""
   ]
  },
  {
   "cell_type": "markdown",
   "metadata": {},
   "source": [
    "The parse_map function takes such a representation and returns a list of variables (regions) and a list of pairs of variables that must have different values (adjacent regions)"
   ]
  },
  {
   "cell_type": "code",
   "execution_count": 3,
   "metadata": {},
   "outputs": [],
   "source": [
    "def parse_map(neighbors):\n",
    "    \"\"\"Given a string like 'X:Y Z; Y:Z' returns a tuple of regions and\n",
    "    adjoining pairs.  The syntax is a region name followed by ':'\n",
    "    followed by 0 or more region names, followed by ';', repeated for\n",
    "    each region.  Given 'X: Y' you don't need 'Y: X'.  Example:\n",
    "      >>> parse_map('X:Y Z; Y:Z') \n",
    "      ([X,Y,Z], [(X,Y),(Y,X),(X,Z),(Z,X),(Y,Z),(Z,Y)])\n",
    "    \"\"\"\n",
    "    adjoins = []\n",
    "    regions = set()\n",
    "    specs = [spec.split(':') for spec in neighbors.split(';')]\n",
    "    for (A, Aneighbors) in specs:\n",
    "        A = A.strip();\n",
    "        regions.add(A)\n",
    "        for B in Aneighbors.split():\n",
    "            regions.add(B)\n",
    "            adjoins.append((A,B))\n",
    "    return (list(regions), adjoins)"
   ]
  },
  {
   "cell_type": "markdown",
   "metadata": {},
   "source": [
    "Let's look at austraila as an example"
   ]
  },
  {
   "cell_type": "code",
   "execution_count": 4,
   "metadata": {},
   "outputs": [
    {
     "data": {
      "text/plain": [
       "(['V', 'Q', 'NT', 'SA', 'WA', 'T', 'NSW'],\n",
       " [('SA', 'WA'),\n",
       "  ('SA', 'NT'),\n",
       "  ('SA', 'Q'),\n",
       "  ('SA', 'NSW'),\n",
       "  ('SA', 'V'),\n",
       "  ('NT', 'WA'),\n",
       "  ('NT', 'Q'),\n",
       "  ('NSW', 'Q'),\n",
       "  ('NSW', 'V')])"
      ]
     },
     "execution_count": 4,
     "metadata": {},
     "output_type": "execute_result"
    }
   ],
   "source": [
    "parse_map(australia)"
   ]
  },
  {
   "cell_type": "markdown",
   "metadata": {},
   "source": [
    "Setting this up as a constraint problem is easy"
   ]
  },
  {
   "cell_type": "code",
   "execution_count": 5,
   "metadata": {},
   "outputs": [],
   "source": [
    "def color (map, colors=['red','green','blue']):\n",
    "    (vars, adjoins) = parse_map(map)\n",
    "    p = constraint.Problem()\n",
    "    p.addVariables(vars, colors)\n",
    "    for (v1, v2) in adjoins:\n",
    "        p.addConstraint(lambda x,y: x!=y, [v1, v2])\n",
    "    solution = p.getSolution()\n",
    "    if solution:\n",
    "        for v in sorted(vars):\n",
    "            print(f\"{v}:{solution[v]}; \", end='')\n",
    "        print()\n",
    "    else:\n",
    "        print('No solution found :-(')"
   ]
  },
  {
   "cell_type": "markdown",
   "metadata": {},
   "source": [
    "Can we color australia in three colors?"
   ]
  },
  {
   "cell_type": "code",
   "execution_count": 6,
   "metadata": {},
   "outputs": [
    {
     "name": "stdout",
     "output_type": "stream",
     "text": [
      "AUSTRALIA in three colors\n",
      "NSW:green; NT:green; Q:red; SA:blue; T:blue; V:red; WA:red; \n"
     ]
    }
   ],
   "source": [
    "print('AUSTRALIA in three colors')\n",
    "color(australia)"
   ]
  },
  {
   "cell_type": "code",
   "execution_count": 7,
   "metadata": {},
   "outputs": [
    {
     "name": "stdout",
     "output_type": "stream",
     "text": [
      "USA in three colors\n",
      "No solution found :-(\n"
     ]
    }
   ],
   "source": [
    "print('USA in three colors')\n",
    "color(usa)"
   ]
  },
  {
   "cell_type": "code",
   "execution_count": 8,
   "metadata": {},
   "outputs": [
    {
     "name": "stdout",
     "output_type": "stream",
     "text": [
      "USA in four colors\n",
      "AK:yellow; AL:green; AR:green; AZ:red; CA:yellow; CO:yellow; CT:blue; DC:blue; DE:blue; FL:blue; GA:yellow; HI:yellow; IA:blue; ID:yellow; IL:green; IN:yellow; KA:red; KY:green; LA:blue; MA:yellow; MD:green; ME:yellow; MI:blue; MN:green; MO:yellow; MS:yellow; MT:green; NC:green; ND:blue; NE:green; NH:blue; NJ:green; NM:green; NV:blue; NY:blue; OH:red; OK:blue; OR:green; PA:yellow; RI:green; SC:blue; SD:yellow; TN:blue; TX:yellow; UT:green; VA:yellow; VT:green; WA:blue; WI:yellow; WV:blue; WY:blue; \n"
     ]
    }
   ],
   "source": [
    "print('USA in four colors')\n",
    "color(usa, colors=['red','green','blue','yellow'])"
   ]
  },
  {
   "cell_type": "code",
   "execution_count": null,
   "metadata": {},
   "outputs": [],
   "source": []
  }
 ],
 "metadata": {
  "anaconda-cloud": {},
  "kernelspec": {
   "display_name": "Python 3",
   "language": "python",
   "name": "python3"
  },
  "language_info": {
   "codemirror_mode": {
    "name": "ipython",
    "version": 3
   },
   "file_extension": ".py",
   "mimetype": "text/x-python",
   "name": "python",
   "nbconvert_exporter": "python",
   "pygments_lexer": "ipython3",
   "version": "3.8.1"
  }
 },
 "nbformat": 4,
 "nbformat_minor": 2
}
